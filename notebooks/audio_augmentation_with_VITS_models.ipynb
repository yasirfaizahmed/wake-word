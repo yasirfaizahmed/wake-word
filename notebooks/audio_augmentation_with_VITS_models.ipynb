{
 "cells": [
  {
   "cell_type": "code",
   "execution_count": 16,
   "id": "bc93a518",
   "metadata": {},
   "outputs": [],
   "source": [
    "import matplotlib.pyplot as plt\n",
    "import IPython.display as ipd\n",
    "import soundfile as sf\n",
    "import os\n",
    "import json\n",
    "import math\n",
    "import numpy as np\n",
    "import torch\n",
    "from torch import nn\n",
    "from torch.nn import functional as F\n",
    "from torch.utils.data import DataLoader\n",
    "import soundfile\n",
    "import random\n",
    "\n",
    "\n",
    "import commons\n",
    "import utils\n",
    "from vits.data_utils import TextAudioLoader, TextAudioCollate, TextAudioSpeakerLoader, TextAudioSpeakerCollate\n",
    "from vits.models import SynthesizerTrn\n",
    "from vits.text.symbols import symbols\n",
    "from vits.text import text_to_sequence\n",
    "\n",
    "from scipy.io.wavfile import write\n",
    "\n",
    "\n",
    "def get_text(text, hps):\n",
    "    text_norm = text_to_sequence(text, hps.data.text_cleaners)\n",
    "    if hps.data.add_blank:\n",
    "        text_norm = commons.intersperse(text_norm, 0)\n",
    "    text_norm = torch.LongTensor(text_norm)\n",
    "    return text_norm"
   ]
  },
  {
   "cell_type": "code",
   "execution_count": 3,
   "id": "9cc55ee0",
   "metadata": {},
   "outputs": [
    {
     "name": "stderr",
     "output_type": "stream",
     "text": [
      "/home/xd/miniconda3/envs/torch_env/lib/python3.10/site-packages/torch/nn/utils/weight_norm.py:144: FutureWarning: `torch.nn.utils.weight_norm` is deprecated in favor of `torch.nn.utils.parametrizations.weight_norm`.\n",
      "  WeightNorm.apply(module, name, dim)\n"
     ]
    },
    {
     "name": "stdout",
     "output_type": "stream",
     "text": [
      "INFO:root:Loaded checkpoint '/home/xd/Downloads/pretrained_vctk.pth' (iteration 0)\n"
     ]
    }
   ],
   "source": [
    "hps = utils.get_hparams_from_file(\"vits/configs/vctk_base.json\")\n",
    "\n",
    "net_g = SynthesizerTrn(\n",
    "    len(symbols),\n",
    "    hps.data.filter_length // 2 + 1,\n",
    "    hps.train.segment_size // hps.data.hop_length,\n",
    "    n_speakers=hps.data.n_speakers,\n",
    "    **hps.model).cuda()\n",
    "_ = net_g.eval()\n",
    "\n",
    "_ = utils.load_checkpoint(\"/home/xd/Downloads/pretrained_vctk.pth\", net_g, None)"
   ]
  },
  {
   "cell_type": "code",
   "execution_count": 19,
   "id": "5b10dd37",
   "metadata": {},
   "outputs": [
    {
     "name": "stdout",
     "output_type": "stream",
     "text": [
      "Saved file at /home/xd/Documents/wake-word/.data/wake/vits_0.10_0.10.wav\n",
      "Saved file at /home/xd/Documents/wake-word/.data/wake/vits_0.10_0.20.wav\n",
      "Saved file at /home/xd/Documents/wake-word/.data/wake/vits_0.10_0.30.wav\n",
      "Saved file at /home/xd/Documents/wake-word/.data/wake/vits_0.10_0.40.wav\n",
      "Saved file at /home/xd/Documents/wake-word/.data/wake/vits_0.10_0.50.wav\n",
      "Saved file at /home/xd/Documents/wake-word/.data/wake/vits_0.10_0.60.wav\n",
      "Saved file at /home/xd/Documents/wake-word/.data/wake/vits_0.10_0.70.wav\n",
      "Saved file at /home/xd/Documents/wake-word/.data/wake/vits_0.10_0.80.wav\n",
      "Saved file at /home/xd/Documents/wake-word/.data/wake/vits_0.10_0.90.wav\n",
      "Saved file at /home/xd/Documents/wake-word/.data/wake/vits_0.20_0.10.wav\n",
      "Saved file at /home/xd/Documents/wake-word/.data/wake/vits_0.20_0.20.wav\n",
      "Saved file at /home/xd/Documents/wake-word/.data/wake/vits_0.20_0.30.wav\n",
      "Saved file at /home/xd/Documents/wake-word/.data/wake/vits_0.20_0.40.wav\n",
      "Saved file at /home/xd/Documents/wake-word/.data/wake/vits_0.20_0.50.wav\n",
      "Saved file at /home/xd/Documents/wake-word/.data/wake/vits_0.20_0.60.wav\n",
      "Saved file at /home/xd/Documents/wake-word/.data/wake/vits_0.20_0.70.wav\n",
      "Saved file at /home/xd/Documents/wake-word/.data/wake/vits_0.20_0.80.wav\n",
      "Saved file at /home/xd/Documents/wake-word/.data/wake/vits_0.20_0.90.wav\n",
      "Saved file at /home/xd/Documents/wake-word/.data/wake/vits_0.30_0.10.wav\n",
      "Saved file at /home/xd/Documents/wake-word/.data/wake/vits_0.30_0.20.wav\n",
      "Saved file at /home/xd/Documents/wake-word/.data/wake/vits_0.30_0.30.wav\n",
      "Saved file at /home/xd/Documents/wake-word/.data/wake/vits_0.30_0.40.wav\n",
      "Saved file at /home/xd/Documents/wake-word/.data/wake/vits_0.30_0.50.wav\n",
      "Saved file at /home/xd/Documents/wake-word/.data/wake/vits_0.30_0.60.wav\n",
      "Saved file at /home/xd/Documents/wake-word/.data/wake/vits_0.30_0.70.wav\n",
      "Saved file at /home/xd/Documents/wake-word/.data/wake/vits_0.30_0.80.wav\n",
      "Saved file at /home/xd/Documents/wake-word/.data/wake/vits_0.30_0.90.wav\n",
      "Saved file at /home/xd/Documents/wake-word/.data/wake/vits_0.40_0.10.wav\n",
      "Saved file at /home/xd/Documents/wake-word/.data/wake/vits_0.40_0.20.wav\n",
      "Saved file at /home/xd/Documents/wake-word/.data/wake/vits_0.40_0.30.wav\n",
      "Saved file at /home/xd/Documents/wake-word/.data/wake/vits_0.40_0.40.wav\n",
      "Saved file at /home/xd/Documents/wake-word/.data/wake/vits_0.40_0.50.wav\n",
      "Saved file at /home/xd/Documents/wake-word/.data/wake/vits_0.40_0.60.wav\n",
      "Saved file at /home/xd/Documents/wake-word/.data/wake/vits_0.40_0.70.wav\n",
      "Saved file at /home/xd/Documents/wake-word/.data/wake/vits_0.40_0.80.wav\n",
      "Saved file at /home/xd/Documents/wake-word/.data/wake/vits_0.40_0.90.wav\n",
      "Saved file at /home/xd/Documents/wake-word/.data/wake/vits_0.50_0.10.wav\n",
      "Saved file at /home/xd/Documents/wake-word/.data/wake/vits_0.50_0.20.wav\n",
      "Saved file at /home/xd/Documents/wake-word/.data/wake/vits_0.50_0.30.wav\n",
      "Saved file at /home/xd/Documents/wake-word/.data/wake/vits_0.50_0.40.wav\n",
      "Saved file at /home/xd/Documents/wake-word/.data/wake/vits_0.50_0.50.wav\n",
      "Saved file at /home/xd/Documents/wake-word/.data/wake/vits_0.50_0.60.wav\n",
      "Saved file at /home/xd/Documents/wake-word/.data/wake/vits_0.50_0.70.wav\n",
      "Saved file at /home/xd/Documents/wake-word/.data/wake/vits_0.50_0.80.wav\n",
      "Saved file at /home/xd/Documents/wake-word/.data/wake/vits_0.50_0.90.wav\n",
      "Saved file at /home/xd/Documents/wake-word/.data/wake/vits_0.60_0.10.wav\n",
      "Saved file at /home/xd/Documents/wake-word/.data/wake/vits_0.60_0.20.wav\n",
      "Saved file at /home/xd/Documents/wake-word/.data/wake/vits_0.60_0.30.wav\n",
      "Saved file at /home/xd/Documents/wake-word/.data/wake/vits_0.60_0.40.wav\n",
      "Saved file at /home/xd/Documents/wake-word/.data/wake/vits_0.60_0.50.wav\n",
      "Saved file at /home/xd/Documents/wake-word/.data/wake/vits_0.60_0.60.wav\n",
      "Saved file at /home/xd/Documents/wake-word/.data/wake/vits_0.60_0.70.wav\n",
      "Saved file at /home/xd/Documents/wake-word/.data/wake/vits_0.60_0.80.wav\n",
      "Saved file at /home/xd/Documents/wake-word/.data/wake/vits_0.60_0.90.wav\n",
      "Saved file at /home/xd/Documents/wake-word/.data/wake/vits_0.70_0.10.wav\n",
      "Saved file at /home/xd/Documents/wake-word/.data/wake/vits_0.70_0.20.wav\n",
      "Saved file at /home/xd/Documents/wake-word/.data/wake/vits_0.70_0.30.wav\n",
      "Saved file at /home/xd/Documents/wake-word/.data/wake/vits_0.70_0.40.wav\n",
      "Saved file at /home/xd/Documents/wake-word/.data/wake/vits_0.70_0.50.wav\n",
      "Saved file at /home/xd/Documents/wake-word/.data/wake/vits_0.70_0.60.wav\n",
      "Saved file at /home/xd/Documents/wake-word/.data/wake/vits_0.70_0.70.wav\n",
      "Saved file at /home/xd/Documents/wake-word/.data/wake/vits_0.70_0.80.wav\n",
      "Saved file at /home/xd/Documents/wake-word/.data/wake/vits_0.70_0.90.wav\n",
      "Saved file at /home/xd/Documents/wake-word/.data/wake/vits_0.80_0.10.wav\n",
      "Saved file at /home/xd/Documents/wake-word/.data/wake/vits_0.80_0.20.wav\n",
      "Saved file at /home/xd/Documents/wake-word/.data/wake/vits_0.80_0.30.wav\n",
      "Saved file at /home/xd/Documents/wake-word/.data/wake/vits_0.80_0.40.wav\n",
      "Saved file at /home/xd/Documents/wake-word/.data/wake/vits_0.80_0.50.wav\n",
      "Saved file at /home/xd/Documents/wake-word/.data/wake/vits_0.80_0.60.wav\n",
      "Saved file at /home/xd/Documents/wake-word/.data/wake/vits_0.80_0.70.wav\n",
      "Saved file at /home/xd/Documents/wake-word/.data/wake/vits_0.80_0.80.wav\n",
      "Saved file at /home/xd/Documents/wake-word/.data/wake/vits_0.80_0.90.wav\n",
      "Saved file at /home/xd/Documents/wake-word/.data/wake/vits_0.90_0.10.wav\n",
      "Saved file at /home/xd/Documents/wake-word/.data/wake/vits_0.90_0.20.wav\n",
      "Saved file at /home/xd/Documents/wake-word/.data/wake/vits_0.90_0.30.wav\n",
      "Saved file at /home/xd/Documents/wake-word/.data/wake/vits_0.90_0.40.wav\n",
      "Saved file at /home/xd/Documents/wake-word/.data/wake/vits_0.90_0.50.wav\n",
      "Saved file at /home/xd/Documents/wake-word/.data/wake/vits_0.90_0.60.wav\n",
      "Saved file at /home/xd/Documents/wake-word/.data/wake/vits_0.90_0.70.wav\n",
      "Saved file at /home/xd/Documents/wake-word/.data/wake/vits_0.90_0.80.wav\n",
      "Saved file at /home/xd/Documents/wake-word/.data/wake/vits_0.90_0.90.wav\n"
     ]
    }
   ],
   "source": [
    "stn_tst = get_text(\"Hey jarvis\", hps)\n",
    "for noise_scale in np.arange(0.1, 1.0, 0.1):\n",
    "  for noise_scale_w in np.arange  (0.1, 1.0, 0.1):\n",
    "    with torch.no_grad():\n",
    "      x_tst = stn_tst.cuda().unsqueeze(0)\n",
    "      x_tst_lengths = torch.LongTensor([stn_tst.size(0)]).cuda()\n",
    "      sid = torch.LongTensor([4]).cuda()\n",
    "      audio = net_g.infer(x_tst, x_tst_lengths, sid=sid, noise_scale=noise_scale, noise_scale_w=noise_scale_w, length_scale=2)[0][0,0].data.cpu().float().numpy()\n",
    "# ipd.display(ipd.Audio(audio, rate=hps.data.sampling_rate, normalize=False)) \n",
    "    sf.write(f\"/home/xd/Documents/wake-word/.data/wake/vits_{noise_scale:.2f}_{noise_scale_w:.2f}.wav\", audio, hps.data.sampling_rate)\n",
    "    print(f\"Saved file at /home/xd/Documents/wake-word/.data/wake/vits_{noise_scale:.2f}_{noise_scale_w:.2f}.wav\")"
   ]
  }
 ],
 "metadata": {
  "kernelspec": {
   "display_name": "torch_env",
   "language": "python",
   "name": "python3"
  },
  "language_info": {
   "codemirror_mode": {
    "name": "ipython",
    "version": 3
   },
   "file_extension": ".py",
   "mimetype": "text/x-python",
   "name": "python",
   "nbconvert_exporter": "python",
   "pygments_lexer": "ipython3",
   "version": "3.10.18"
  }
 },
 "nbformat": 4,
 "nbformat_minor": 5
}
